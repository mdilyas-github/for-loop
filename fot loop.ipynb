{
 "cells": [
  {
   "cell_type": "code",
   "execution_count": 6,
   "id": "12224bb1",
   "metadata": {},
   "outputs": [
    {
     "name": "stdout",
     "output_type": "stream",
     "text": [
      "('ilyas', 'super', 'link', 'hello')\n"
     ]
    }
   ],
   "source": [
    "\n",
    "student = ('ilyas','super','link','hello')\n",
    "print(student)\n"
   ]
  },
  {
   "cell_type": "code",
   "execution_count": 21,
   "id": "3e1c02be",
   "metadata": {},
   "outputs": [
    {
     "name": "stdout",
     "output_type": "stream",
     "text": [
      "keep up the good work,Ilyas\n"
     ]
    }
   ],
   "source": [
    "print(f\"keep up the good work,{student[0].title()}\")  # if i have 100 student 100 time i have to write.solution is loop"
   ]
  },
  {
   "cell_type": "code",
   "execution_count": 25,
   "id": "23543ca2",
   "metadata": {},
   "outputs": [
    {
     "name": "stdout",
     "output_type": "stream",
     "text": [
      "keep up the good work,Ilyas\n",
      "keep up the good work,Super\n",
      "keep up the good work,Link\n",
      "keep up the good work,Hello\n"
     ]
    }
   ],
   "source": [
    "for i in student:       #i is any temparwary variable  student is a permanant variable\n",
    "   print(f\"keep up the good work,{i.title()}\")"
   ]
  },
  {
   "cell_type": "code",
   "execution_count": 28,
   "id": "f4a111df",
   "metadata": {},
   "outputs": [
    {
     "name": "stdout",
     "output_type": "stream",
     "text": [
      "keep up the good work,Ilyas\n",
      "keep up the good work,Super\n",
      "keep up the good work,Link\n",
      "keep up the good work,Hello\n",
      "this is out of for loop statement it will print only once\n"
     ]
    }
   ],
   "source": [
    "for i in student:\n",
    "     print(f\"keep up the good work,{i.title()}\")\n",
    "        \n",
    "print(\"this is out of for loop statement it will print only once\")        "
   ]
  },
  {
   "cell_type": "code",
   "execution_count": 33,
   "id": "a779b16b",
   "metadata": {},
   "outputs": [
    {
     "name": "stdout",
     "output_type": "stream",
     "text": [
      "keep up the good work,Ilyas\n",
      "this is also under for loop \n",
      "\n",
      "keep up the good work,Super\n",
      "this is also under for loop \n",
      "\n",
      "keep up the good work,Link\n",
      "this is also under for loop \n",
      "\n",
      "keep up the good work,Hello\n",
      "this is also under for loop \n",
      "\n",
      "this is out of for loop statement it will print only once \n"
     ]
    }
   ],
   "source": [
    "for i in student:\n",
    "     print(f\"keep up the good work,{i.title()}\")\n",
    "     print(f\"this is also under for loop \\n\") \n",
    "print(\"this is out of for loop statement it will print only once \")        "
   ]
  },
  {
   "cell_type": "code",
   "execution_count": null,
   "id": "0d38f1a2",
   "metadata": {},
   "outputs": [],
   "source": []
  }
 ],
 "metadata": {
  "kernelspec": {
   "display_name": "Python 3 (ipykernel)",
   "language": "python",
   "name": "python3"
  },
  "language_info": {
   "codemirror_mode": {
    "name": "ipython",
    "version": 3
   },
   "file_extension": ".py",
   "mimetype": "text/x-python",
   "name": "python",
   "nbconvert_exporter": "python",
   "pygments_lexer": "ipython3",
   "version": "3.9.7"
  }
 },
 "nbformat": 4,
 "nbformat_minor": 5
}
